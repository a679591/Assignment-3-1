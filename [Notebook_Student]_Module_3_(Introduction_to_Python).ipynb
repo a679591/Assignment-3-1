{
  "cells": [
    {
      "cell_type": "markdown",
      "metadata": {
        "id": "view-in-github",
        "colab_type": "text"
      },
      "source": [
        "<a href=\"https://colab.research.google.com/github/a679591/Assignment-3-1/blob/main/%5BNotebook_Student%5D_Module_3_(Introduction_to_Python).ipynb\" target=\"_parent\"><img src=\"https://colab.research.google.com/assets/colab-badge.svg\" alt=\"Open In Colab\"/></a>"
      ]
    },
    {
      "cell_type": "markdown",
      "metadata": {
        "id": "n8k892W_QmZU"
      },
      "source": [
        "# **Getting Started with Python!**"
      ]
    },
    {
      "cell_type": "markdown",
      "metadata": {
        "id": "GncxQm8y7sKl"
      },
      "source": []
    },
    {
      "cell_type": "markdown",
      "metadata": {
        "id": "yeT2aJTMQmZa"
      },
      "source": [
        "##  What is Python ?"
      ]
    },
    {
      "cell_type": "markdown",
      "metadata": {
        "id": "4-texIqgQmZb"
      },
      "source": [
        "Python is a popular programming language that is reliable, flexible, easy to learn, free to use on all operating systems, and supported by both a strong developer community and many free libraries (Libraries are pre-written codes that developers use to solve common programming tasks).\n",
        "\n",
        "Python supports all manners of development, including web applications, web services, desktop apps, scripting, data science, scientific computing, and Jupyter notebooks. Python is a language used by many universities, scientists, casual developers, and professional developers alike.\n",
        "\n",
        "Python is a **high level programming Language**. This simply means that the commands used in Python are understandable by humans. These commands are then converted into machine code by using an interpreter.\n",
        "\n",
        "You can learn more about the language on [python.org](https://www.python.org/) and [Python for Beginners](https://www.python.org/about/gettingstarted/).."
      ]
    },
    {
      "cell_type": "markdown",
      "metadata": {
        "id": "wRAKwUmeQmZd"
      },
      "source": [
        "##  Why use Python for learning AI ?"
      ]
    },
    {
      "cell_type": "markdown",
      "metadata": {
        "id": "GFwO5zg6QmZe"
      },
      "source": [
        "# Python is more often than not the top most choice for Machine Learning Applications. The main reason for this is the amount of **simplicity, consistency and stability** Python code can bring to AI workflows.\n",
        "\n",
        "The simplest of AI workflows require extensive mathematical functions running in the background. The wide variety of stable and user friendly **libraries** like Scikit-Learn (used for handling basic Machine Learning algorithms like clustering, linear and logistic regressions, etc.), Matplotlib (used for creating bar charts, histograms and other data visualizations) etc provide great support for building scalable and efficient code. We shall cover more on these in the later sessions.\n",
        "\n",
        "Another reason why python is easy to use is that you **do not need to declare variable types** unlike other programming languages. A variable is the name you give to a value you want to store and use later.\n",
        "\n",
        "For example, let's say you would like to create a variable called money to store some numerical value of money, in Python you would only need to assign a value to the word 'money' to use it, in other programming languages, this requires a variable type declaration before use.\n",
        "\n",
        "Now that we have understood why we have chosen Python as our programming language, let's get started with basic commands we will come across frequently in our AI journey!"
      ]
    },
    {
      "cell_type": "markdown",
      "metadata": {
        "id": "dAEwQp7ULUuC"
      },
      "source": [
        "**Some tips before we begin:**"
      ]
    },
    {
      "cell_type": "code",
      "execution_count": null,
      "metadata": {
        "id": "eh7LvCYALUuC"
      },
      "outputs": [],
      "source": [
        "# 1) This box is called a Cell in a Notebook environment.\n",
        "# 2) Do try to follow along with your facilitator by pressing the Run button(left of the cell)"
      ]
    },
    {
      "cell_type": "markdown",
      "metadata": {
        "id": "EEKwmQIdQmZf"
      },
      "source": [
        "## Comments\n",
        "\n",
        "Many of the examples in this notebook include comments. Comments in Python start with the hash character, `#`, and extend to the end of the physical line. A comment may appear at the start of a line or following whitespace or code, but not within the quotation marks `\"\"` or `''` of a String itself. A hash character between quotation marks is just a hash character. Since comments are to clarify code and are not interpreted by Python, they may be omitted when typing in examples.\n",
        "\n",
        "Some examples:"
      ]
    },
    {
      "cell_type": "code",
      "execution_count": null,
      "metadata": {
        "colab": {
          "base_uri": "https://localhost:8080/"
        },
        "id": "JmE6SFGxQmZh",
        "outputId": "842897c9-ee17-4d50-f546-a20d667e71be"
      },
      "outputs": [
        {
          "output_type": "stream",
          "name": "stdout",
          "text": [
            "Hi welcome to your first Python Program!\n"
          ]
        }
      ],
      "source": [
        "# This is the first comment\n",
        "number = 1  # and this is the second comment\n",
        "          # ... and now a third!\n",
        "'#Meanwhile, this is not a comment'\n",
        "\n",
        "Welcome = \"Hi welcome to your first Python Program!\"\n",
        "print(Welcome) #This is the 'print' Command"
      ]
    },
    {
      "cell_type": "markdown",
      "metadata": {
        "id": "OOX51tZTQmZx"
      },
      "source": [
        "# Explore Data Types in Python!"
      ]
    },
    {
      "cell_type": "markdown",
      "metadata": {
        "id": "VI45L6AYQmZy"
      },
      "source": [
        "Although we do not have to declare a type for python variables, a value does have a type. These are data types we will be covering in this Notebook:\n",
        "1. Numbers\n",
        "2. Strings\n",
        "3. Lists\n",
        "4. Tuples\n",
        "5. Dictionary"
      ]
    },
    {
      "cell_type": "code",
      "execution_count": null,
      "metadata": {
        "id": "9R9IWt5n-LL7"
      },
      "outputs": [],
      "source": [
        "x = 'hello'\n",
        "x = [\"I\", \"Love\", \"AI\"]\n",
        "x = 2.5\n",
        "x = True #Boolean type, only has true or false, think of an on-off switch\n"
      ]
    },
    {
      "cell_type": "markdown",
      "metadata": {
        "id": "HjfUiFCKQmZz"
      },
      "source": [
        "## Numbers\n",
        "\n",
        "The Python interpreter can act as a simple calculator: type an expression at it outputs the value.\n",
        "\n",
        "Expression syntax is straightforward: the operators `+`, `-`, `*` and `/` work just like in most other programming languages (such as Pascal or C); parentheses (`()`) can be used for grouping and order or precedence. For example:"
      ]
    },
    {
      "cell_type": "code",
      "execution_count": null,
      "metadata": {
        "colab": {
          "base_uri": "https://localhost:8080/"
        },
        "id": "QOeZjO4BQmZ1",
        "outputId": "ead05870-1e9b-4f40-9e2e-7a5f98f32771"
      },
      "outputs": [
        {
          "output_type": "execute_result",
          "data": {
            "text/plain": [
              "4.0"
            ]
          },
          "metadata": {},
          "execution_count": 4
        }
      ],
      "source": [
        "56 + 28\n",
        "69 - 2\n",
        "2 * 5\n",
        "((2+1) * 4) / 3"
      ]
    },
    {
      "cell_type": "markdown",
      "metadata": {
        "id": "fSsmmhJeQmaH"
      },
      "source": [
        "The integer numbers (e.g. `2`, `4`, `20`) have type [`int`](https://docs.python.org/3.5/library/functions.html#int), the ones with a fractional part (e.g. `5.0`, `1.6`) have type [`float`](https://docs.python.org/3.5/library/functions.html#float).\n",
        "\n",
        "The major difference is float can be used for both integers and decimals.\n",
        "\n",
        "We can use the type() function to find which data type a variable belongs to."
      ]
    },
    {
      "cell_type": "code",
      "execution_count": null,
      "metadata": {
        "colab": {
          "base_uri": "https://localhost:8080/"
        },
        "id": "ncEg_5eRQmaO",
        "outputId": "0c1b36ba-c752-49ea-b7b8-56ef1f8e8c83"
      },
      "outputs": [
        {
          "output_type": "stream",
          "name": "stdout",
          "text": [
            "Datatype for roll_number is <class 'int'>\n",
            "Datatype for marks is <class 'float'>\n"
          ]
        }
      ],
      "source": [
        "roll_number = 1234\n",
        "marks = 52.5\n",
        "print (\"Datatype for roll_number is\",type(roll_number))\n",
        "print (\"Datatype for marks is\",type(marks)) #Notice that we did not declare either of the variables with a particular datatype"
      ]
    },
    {
      "cell_type": "markdown",
      "metadata": {
        "id": "bA0je0GNQmaw"
      },
      "source": [
        "Division (`/`) always returns a float. To do [floor division](https://docs.python.org/3.5/glossary.html#term-floor-division) and get an integer result (discarding any fractional result) you can use the `//` operator; to calculate the remainder you can use `%`:"
      ]
    },
    {
      "cell_type": "code",
      "execution_count": null,
      "metadata": {
        "colab": {
          "base_uri": "https://localhost:8080/"
        },
        "id": "VlqlUoPLQmbC",
        "outputId": "9249f69d-2021-4d04-bdef-7a2eb8f7ac8b"
      },
      "outputs": [
        {
          "output_type": "execute_result",
          "data": {
            "text/plain": [
              "2.6"
            ]
          },
          "metadata": {},
          "execution_count": 6
        }
      ],
      "source": [
        "13 / 5  # Division using the '/' operator returns a float."
      ]
    },
    {
      "cell_type": "code",
      "execution_count": null,
      "metadata": {
        "colab": {
          "base_uri": "https://localhost:8080/"
        },
        "id": "u1I05HgTQmbV",
        "outputId": "13448571-84ed-48af-cea6-8d4dc7a999f4"
      },
      "outputs": [
        {
          "output_type": "execute_result",
          "data": {
            "text/plain": [
              "2"
            ]
          },
          "metadata": {},
          "execution_count": 7
        }
      ],
      "source": [
        "13 // 5  # Floor division (division which uses the '//' operator) discards the fractional part."
      ]
    },
    {
      "cell_type": "code",
      "execution_count": null,
      "metadata": {
        "colab": {
          "base_uri": "https://localhost:8080/"
        },
        "id": "pqUPZcDjQmbe",
        "outputId": "e5f63d1f-b54d-4430-dec2-42937364bc8e"
      },
      "outputs": [
        {
          "output_type": "execute_result",
          "data": {
            "text/plain": [
              "3"
            ]
          },
          "metadata": {},
          "execution_count": 8
        }
      ],
      "source": [
        "13 % 5  # The '%' operator returns the remainder of the division."
      ]
    },
    {
      "cell_type": "markdown",
      "metadata": {
        "id": "KL7_nuNGQmbl"
      },
      "source": [
        "Use the `**` operator to calculate powers:"
      ]
    },
    {
      "cell_type": "code",
      "execution_count": null,
      "metadata": {
        "colab": {
          "base_uri": "https://localhost:8080/"
        },
        "id": "FeO9nbRVQmbm",
        "outputId": "42201f6a-382e-4f54-b187-765a15a0ec33"
      },
      "outputs": [
        {
          "output_type": "execute_result",
          "data": {
            "text/plain": [
              "144"
            ]
          },
          "metadata": {},
          "execution_count": 9
        }
      ],
      "source": [
        "12**2 # This will print the square of '12'"
      ]
    },
    {
      "cell_type": "code",
      "execution_count": null,
      "metadata": {
        "colab": {
          "base_uri": "https://localhost:8080/"
        },
        "id": "ox8YE63kQmbs",
        "outputId": "0c5977d5-b4bc-42b6-8360-fc1de787140a"
      },
      "outputs": [
        {
          "output_type": "execute_result",
          "data": {
            "text/plain": [
              "64"
            ]
          },
          "metadata": {},
          "execution_count": 10
        }
      ],
      "source": [
        "2**6 # This will print 2 to the power 6"
      ]
    },
    {
      "cell_type": "markdown",
      "metadata": {
        "id": "78zPTit4QmcD"
      },
      "source": [
        "`**` has higher precedence than `-`; if you want a negative base, use parentheses:"
      ]
    },
    {
      "cell_type": "code",
      "execution_count": null,
      "metadata": {
        "colab": {
          "base_uri": "https://localhost:8080/"
        },
        "id": "JmtzPfPmQmcE",
        "outputId": "b5e90017-7bd8-41ab-b774-d71054cd8c1b"
      },
      "outputs": [
        {
          "output_type": "execute_result",
          "data": {
            "text/plain": [
              "-16"
            ]
          },
          "metadata": {},
          "execution_count": 11
        }
      ],
      "source": [
        "-4**2 #Result will be same as -(4**2)"
      ]
    },
    {
      "cell_type": "code",
      "execution_count": null,
      "metadata": {
        "colab": {
          "base_uri": "https://localhost:8080/"
        },
        "id": "iJdjBRebQmcd",
        "outputId": "c4c2c485-f03f-40e4-ef27-1752ebd9a0d6"
      },
      "outputs": [
        {
          "output_type": "execute_result",
          "data": {
            "text/plain": [
              "16"
            ]
          },
          "metadata": {},
          "execution_count": 12
        }
      ],
      "source": [
        "(-4)**2"
      ]
    },
    {
      "cell_type": "markdown",
      "metadata": {
        "id": "mjp5w2QuQmcn"
      },
      "source": [
        "The equal sign (`=`) is used for assigning values to a variable"
      ]
    },
    {
      "cell_type": "code",
      "execution_count": null,
      "metadata": {
        "colab": {
          "base_uri": "https://localhost:8080/"
        },
        "id": "pzW6Z9NqQmco",
        "outputId": "22b839e2-5084-4a8f-a553-8a74c409afdf"
      },
      "outputs": [
        {
          "output_type": "execute_result",
          "data": {
            "text/plain": [
              "600"
            ]
          },
          "metadata": {},
          "execution_count": 13
        }
      ],
      "source": [
        "weight = 50\n",
        "total_people =12\n",
        "weight * total_people"
      ]
    },
    {
      "cell_type": "markdown",
      "metadata": {
        "id": "gFRTTYQRQmct"
      },
      "source": [
        "If a variable is not defined (i.e assigned a value) then using it results in an error"
      ]
    },
    {
      "cell_type": "code",
      "execution_count": null,
      "metadata": {
        "id": "de3Wfw54Qmcu"
      },
      "outputs": [],
      "source": [
        "n = 1 # Accessing an undefined variable."
      ]
    },
    {
      "cell_type": "markdown",
      "metadata": {
        "id": "RHvbvqqYQmc3"
      },
      "source": [
        "In addition to `int` and `float`, Python supports other types of numbers, such as [`Decimal`](https://docs.python.org/3.5/library/decimal.html#decimal.Decimal) and [`Fraction`](https://docs.python.org/3.5/library/fractions.html#fractions.Fraction). Python also has built-in support for [complex numbers](https://docs.python.org/3.5/library/stdtypes.html#typesnumeric), and uses the `j` or `J` suffix to indicate the imaginary part (e.g. `3+5j`)."
      ]
    },
    {
      "cell_type": "markdown",
      "metadata": {
        "id": "K46jXA1pQmc5"
      },
      "source": [
        "## Strings"
      ]
    },
    {
      "cell_type": "markdown",
      "metadata": {
        "id": "VH8yiVFWQmc6"
      },
      "source": [
        "Strings are a sequence of characters. Besides numbers, Python can also manipulate strings. Strings can enclosed in single quotes `'...'` or double quotes `\"...\"` with the same result. Use \\ to escape quotes, that is, to use the `'` within the string itself:"
      ]
    },
    {
      "cell_type": "code",
      "execution_count": null,
      "metadata": {
        "colab": {
          "base_uri": "https://localhost:8080/"
        },
        "id": "p21soIQ6Qmc7",
        "outputId": "da95fb44-9eca-4372-dc60-f3d0b8f327d2"
      },
      "outputs": [
        {
          "output_type": "execute_result",
          "data": {
            "text/plain": [
              "str"
            ]
          },
          "metadata": {},
          "execution_count": 16
        }
      ],
      "source": [
        "string=\"What skills have you learnt today ?\"\n",
        "type(string)"
      ]
    },
    {
      "cell_type": "code",
      "execution_count": null,
      "metadata": {
        "colab": {
          "base_uri": "https://localhost:8080/",
          "height": 35
        },
        "id": "wIFSo6hrQmdF",
        "outputId": "c46a4a7a-20c6-4365-ef48-35e76044bb2a"
      },
      "outputs": [
        {
          "output_type": "execute_result",
          "data": {
            "text/plain": [
              "'Learn Python for AI'"
            ],
            "application/vnd.google.colaboratory.intrinsic+json": {
              "type": "string"
            }
          },
          "metadata": {},
          "execution_count": 17
        }
      ],
      "source": [
        "'Learn Python for AI' # Using Single Quotes"
      ]
    },
    {
      "cell_type": "code",
      "execution_count": null,
      "metadata": {
        "colab": {
          "base_uri": "https://localhost:8080/",
          "height": 35
        },
        "id": "-DhlIYYiQmdT",
        "outputId": "a8e05880-8d75-4303-a346-7076c0586dee"
      },
      "outputs": [
        {
          "output_type": "execute_result",
          "data": {
            "text/plain": [
              "\"Isn't this fun?\""
            ],
            "application/vnd.google.colaboratory.intrinsic+json": {
              "type": "string"
            }
          },
          "metadata": {},
          "execution_count": 18
        }
      ],
      "source": [
        "'Isn\\'t this fun?' # The backslash \\ here is to denote that you would like to use the ' symbol in a string rather than ending it"
      ]
    },
    {
      "cell_type": "code",
      "execution_count": null,
      "metadata": {
        "colab": {
          "base_uri": "https://localhost:8080/",
          "height": 35
        },
        "id": "gHjVIdryLUuH",
        "outputId": "d930ecbf-e676-42a7-9c59-042c2b847137"
      },
      "outputs": [
        {
          "output_type": "execute_result",
          "data": {
            "text/plain": [
              "\"Isn't this fun?\""
            ],
            "application/vnd.google.colaboratory.intrinsic+json": {
              "type": "string"
            }
          },
          "metadata": {},
          "execution_count": 20
        }
      ],
      "source": [
        "# This is what happens otherwise, an error will be produced as the characters after the quotes will be seen as codes by Python\n",
        "'Isn\\'t this fun?'"
      ]
    },
    {
      "cell_type": "code",
      "execution_count": null,
      "metadata": {
        "colab": {
          "base_uri": "https://localhost:8080/",
          "height": 35
        },
        "id": "gTwWHZl5Qmda",
        "outputId": "74bb7329-51f2-482e-9bf2-165a2457b1fb"
      },
      "outputs": [
        {
          "output_type": "execute_result",
          "data": {
            "text/plain": [
              "\"Isn't this fun? \""
            ],
            "application/vnd.google.colaboratory.intrinsic+json": {
              "type": "string"
            }
          },
          "metadata": {},
          "execution_count": 22
        }
      ],
      "source": [
        "\"Isn't this fun? \"# ...or use double quotes instead."
      ]
    },
    {
      "cell_type": "markdown",
      "metadata": {
        "id": "c9ryQH7pQmdh"
      },
      "source": [
        "In the interactive interpreter and Jupyter notebooks, the output string is enclosed in quotes and special characters are escaped with backslashes. Although this output sometimes looks different from the input (the enclosing quotes could change), the two strings are equivalent. The string is enclosed in double quotes if the string contains a single quote and no double quotes, otherwise its enclosed in single quotes. The [`print()`](https://docs.python.org/3.6/library/functions.html#print) function produces a more readable output by omitting the enclosing quotes and by printing escaped and special characters:"
      ]
    },
    {
      "cell_type": "code",
      "execution_count": null,
      "metadata": {
        "colab": {
          "base_uri": "https://localhost:8080/",
          "height": 35
        },
        "id": "Z-V4ZOJdQmdl",
        "outputId": "1f279fdb-3c9c-484a-841d-17f72eed4489"
      },
      "outputs": [
        {
          "output_type": "execute_result",
          "data": {
            "text/plain": [
              "'\"Isn\\'t this fun?,\" she said.'"
            ],
            "application/vnd.google.colaboratory.intrinsic+json": {
              "type": "string"
            }
          },
          "metadata": {},
          "execution_count": 21
        }
      ],
      "source": [
        "'\"Isn\\'t this fun?,\" she said.'"
      ]
    },
    {
      "cell_type": "code",
      "execution_count": null,
      "metadata": {
        "colab": {
          "base_uri": "https://localhost:8080/"
        },
        "id": "YNduUyGyQmdr",
        "outputId": "836f7dd5-e88b-46f4-c45b-5671302e9ed8"
      },
      "outputs": [
        {
          "output_type": "stream",
          "name": "stdout",
          "text": [
            "\"Isn't this fun?,\" she said.\n"
          ]
        }
      ],
      "source": [
        "print('\"Isn\\'t this fun?,\" she said.')"
      ]
    },
    {
      "cell_type": "code",
      "execution_count": null,
      "metadata": {
        "colab": {
          "base_uri": "https://localhost:8080/",
          "height": 35
        },
        "id": "nQgT5TC8Qmdy",
        "outputId": "bcfa5c12-e431-4de0-d9bc-aecc20c50696"
      },
      "outputs": [
        {
          "output_type": "execute_result",
          "data": {
            "text/plain": [
              "'First line.\\nSecond line.'"
            ],
            "application/vnd.google.colaboratory.intrinsic+json": {
              "type": "string"
            }
          },
          "metadata": {},
          "execution_count": 24
        }
      ],
      "source": [
        "# Let's create a variable s to store our String\n",
        "\n",
        "s = 'First line.\\nSecond line.'  #\\n means newline.\n",
        "s  # Without print(), \\n is included in the output."
      ]
    },
    {
      "cell_type": "code",
      "execution_count": null,
      "metadata": {
        "colab": {
          "base_uri": "https://localhost:8080/"
        },
        "id": "zrNLwj5jQmeR",
        "outputId": "cb0fa8e0-f278-4aab-9d7f-2b7dbbad975f"
      },
      "outputs": [
        {
          "output_type": "stream",
          "name": "stdout",
          "text": [
            "First line.\n",
            "Second line.\n"
          ]
        }
      ],
      "source": [
        "# Calling the print function to display the value of variable s\n",
        "print(s)  # With print(), \\n produces a new line."
      ]
    },
    {
      "cell_type": "markdown",
      "metadata": {
        "id": "6G6SLgLxQmeb"
      },
      "source": [
        "If you don't want escaped characters (prefaced by \\) to be interpreted as special characters, use raw strings by adding an r before the first quote:"
      ]
    },
    {
      "cell_type": "code",
      "execution_count": null,
      "metadata": {
        "colab": {
          "base_uri": "https://localhost:8080/"
        },
        "id": "qBzfcKtyQmed",
        "outputId": "b7f64570-fdf1-4cb0-9ef7-302871eed21b"
      },
      "outputs": [
        {
          "output_type": "stream",
          "name": "stdout",
          "text": [
            "C:\\some\n",
            "ame\n"
          ]
        }
      ],
      "source": [
        "print('C:\\some\\name')  # Similar to the example above, the Print function interpretes \\n as a newline"
      ]
    },
    {
      "cell_type": "code",
      "execution_count": null,
      "metadata": {
        "colab": {
          "base_uri": "https://localhost:8080/"
        },
        "id": "SGj790mnQmej",
        "outputId": "53c0a318-89d9-472d-9969-3dfb6ff6b85d"
      },
      "outputs": [
        {
          "output_type": "stream",
          "name": "stdout",
          "text": [
            "C:\\some\\name\n"
          ]
        }
      ],
      "source": [
        "print(r'C:\\some\\name')  #Note the usage of r here to give you the desired output"
      ]
    },
    {
      "cell_type": "markdown",
      "metadata": {
        "id": "p5Z8QaTgQmes"
      },
      "source": [
        "Because Python doesn't provide a means for creating multi-line comments, developers often just use triple quotes for this purpose. In a Jupyter notebook, however, such quotes define a string literal(anything enclosed in quotes `\"\"`) which appears as the output of a code cell:"
      ]
    },
    {
      "cell_type": "code",
      "execution_count": null,
      "metadata": {
        "colab": {
          "base_uri": "https://localhost:8080/",
          "height": 53
        },
        "id": "sqe5LryBQmet",
        "outputId": "bfb0d049-d608-4cca-8fa3-a48b1dd13479"
      },
      "outputs": [
        {
          "output_type": "execute_result",
          "data": {
            "text/plain": [
              "\"\\nEverything between the first three quotes, including new lines,\\nis part of the multi-line comment. Technically, the Python interpreter\\nsimply sees the comment as a string, and because it's not otherwise\\nused in code, the string is ignored. Convenient, eh?\\n\""
            ],
            "application/vnd.google.colaboratory.intrinsic+json": {
              "type": "string"
            }
          },
          "metadata": {},
          "execution_count": 28
        }
      ],
      "source": [
        "\"\"\"\n",
        "Everything between the first three quotes, including new lines,\n",
        "is part of the multi-line comment. Technically, the Python interpreter\n",
        "simply sees the comment as a string, and because it's not otherwise\n",
        "used in code, the string is ignored. Convenient, eh?\n",
        "\"\"\""
      ]
    },
    {
      "cell_type": "markdown",
      "metadata": {
        "id": "HXALjwFTQmez"
      },
      "source": [
        "For this reason, it's best in notebooks to use the # comment character at the beginning of each line, or better still, just use a Markdown cell!"
      ]
    },
    {
      "cell_type": "markdown",
      "metadata": {
        "id": "o09eubLBLUuM"
      },
      "source": [
        "## Data manipulation"
      ]
    },
    {
      "cell_type": "markdown",
      "metadata": {
        "id": "HNXGY6c0LUuM"
      },
      "source": [
        "Data manipulation is any change of data from the original, this can be as minor as sorting sentences or words by alphabetical order, or more advanced using libraries such as NumPy which we shall explore in the later sessions.\n",
        "For the purpose of this introduction, we shall explore some techniques and methods of data manipulation done on Strings"
      ]
    },
    {
      "cell_type": "markdown",
      "metadata": {
        "id": "eup4gJ1jQme0"
      },
      "source": [
        "Strings can be concatenated (joined together) with the + operator, and repeated with *:"
      ]
    },
    {
      "cell_type": "code",
      "execution_count": null,
      "metadata": {
        "colab": {
          "base_uri": "https://localhost:8080/",
          "height": 35
        },
        "id": "sUTuSJzCQme5",
        "outputId": "9d5d4551-b738-4b45-f95b-0662cb06e308"
      },
      "outputs": [
        {
          "output_type": "execute_result",
          "data": {
            "text/plain": [
              "'jojorabbit'"
            ],
            "application/vnd.google.colaboratory.intrinsic+json": {
              "type": "string"
            }
          },
          "metadata": {},
          "execution_count": 29
        }
      ],
      "source": [
        "# 2 times 'jo', followed by 'rabbit'\n",
        "2 * 'jo' + 'rabbit'"
      ]
    },
    {
      "cell_type": "markdown",
      "metadata": {
        "id": "LbZ5XN4eQmfD"
      },
      "source": [
        "Two or more *string literals* (that is, the values enclosed in quotes `\"\"` or `''`) placed next to each other are automatically concatenated(joined together):"
      ]
    },
    {
      "cell_type": "code",
      "execution_count": null,
      "metadata": {
        "colab": {
          "base_uri": "https://localhost:8080/",
          "height": 35
        },
        "id": "8EJSUOYZQmfF",
        "outputId": "e9dfaaa3-357e-4a7a-e13f-ee18ce162a50"
      },
      "outputs": [
        {
          "output_type": "execute_result",
          "data": {
            "text/plain": [
              "'DataScience'"
            ],
            "application/vnd.google.colaboratory.intrinsic+json": {
              "type": "string"
            }
          },
          "metadata": {},
          "execution_count": 30
        }
      ],
      "source": [
        "'Data' 'Science'"
      ]
    },
    {
      "cell_type": "markdown",
      "metadata": {
        "id": "GqU_BqTqQmfO"
      },
      "source": [
        "Automatic concatenation works only with two literals; it does not work with variables or expressions, so the following cell produces an error:"
      ]
    },
    {
      "cell_type": "code",
      "execution_count": null,
      "metadata": {
        "id": "aa1PwEOEQmfR"
      },
      "outputs": [],
      "source": [
        "prefix = 'Data'\n",
        "prefix += 'Science'  # Can't concatenate a variable and a string literal."
      ]
    },
    {
      "cell_type": "markdown",
      "metadata": {
        "id": "v3LzmfQKQmfg"
      },
      "source": [
        "To concatenate variables, or a variable and a literal, use `+`:"
      ]
    },
    {
      "cell_type": "code",
      "execution_count": null,
      "metadata": {
        "colab": {
          "base_uri": "https://localhost:8080/",
          "height": 35
        },
        "id": "_uTJcvaoQmfh",
        "outputId": "161ba630-1644-470b-e1fd-7d5e109e419b"
      },
      "outputs": [
        {
          "output_type": "execute_result",
          "data": {
            "text/plain": [
              "'DataScience'"
            ],
            "application/vnd.google.colaboratory.intrinsic+json": {
              "type": "string"
            }
          },
          "metadata": {},
          "execution_count": 33
        }
      ],
      "source": [
        "prefix = 'Data'\n",
        "prefix + 'Science'"
      ]
    },
    {
      "cell_type": "markdown",
      "metadata": {
        "id": "XfOmYJJzQmfp"
      },
      "source": [
        "Automatic concatenation is particularly useful when you want to break up long strings:"
      ]
    },
    {
      "cell_type": "code",
      "execution_count": null,
      "metadata": {
        "colab": {
          "base_uri": "https://localhost:8080/",
          "height": 35
        },
        "id": "p3vWqWmMQmfq",
        "outputId": "dde26591-9cc9-4439-84dd-fad827cebb74"
      },
      "outputs": [
        {
          "output_type": "execute_result",
          "data": {
            "text/plain": [
              "'Put several strings within parentheses to have them joined together.'"
            ],
            "application/vnd.google.colaboratory.intrinsic+json": {
              "type": "string"
            }
          },
          "metadata": {},
          "execution_count": 34
        }
      ],
      "source": [
        "word = ('Put several strings within parentheses '\n",
        "            'to have them joined together.')\n",
        "word"
      ]
    },
    {
      "cell_type": "markdown",
      "metadata": {
        "id": "0dyGmFHsQmf7"
      },
      "source": [
        "**Note: In programming, the first number is actually 0! Look up `Zero-based numbering` for more details**\n",
        "\n",
        "Strings can be *indexed* (subscripted), with the first character having index 0. There is no separate `character` data type; a character is simply a `string` with 1 element"
      ]
    },
    {
      "cell_type": "code",
      "execution_count": null,
      "metadata": {
        "colab": {
          "base_uri": "https://localhost:8080/",
          "height": 53
        },
        "id": "R5pRQeAxQmf8",
        "outputId": "bcfb1867-b793-49be-b392-256206084ede"
      },
      "outputs": [
        {
          "output_type": "stream",
          "name": "stdout",
          "text": [
            "Length of the word Python is: 6\n"
          ]
        },
        {
          "output_type": "execute_result",
          "data": {
            "text/plain": [
              "'P'"
            ],
            "application/vnd.google.colaboratory.intrinsic+json": {
              "type": "string"
            }
          },
          "metadata": {},
          "execution_count": 3
        }
      ],
      "source": [
        "word = 'Python'\n",
        "print (\"Length of the word Python is:\",len(word))# This gives you 6\n",
        "\n",
        "word[0]  # This gives you 'P' the first character of the string 'Python'"
      ]
    },
    {
      "cell_type": "code",
      "execution_count": null,
      "metadata": {
        "colab": {
          "base_uri": "https://localhost:8080/",
          "height": 35
        },
        "id": "oBY5JpVZQmgB",
        "outputId": "e7b18e14-c4ba-460b-ded1-377f771f1d93"
      },
      "outputs": [
        {
          "output_type": "execute_result",
          "data": {
            "text/plain": [
              "'n'"
            ],
            "application/vnd.google.colaboratory.intrinsic+json": {
              "type": "string"
            }
          },
          "metadata": {},
          "execution_count": 4
        }
      ],
      "source": [
        "word[5]  # This gives you'n' the last character of the string 'Python'"
      ]
    },
    {
      "cell_type": "markdown",
      "metadata": {
        "id": "u0iG8Mv1QmgO"
      },
      "source": [
        "Indices may also be negative numbers, which means to start counting from the end of the string. Note that because -0 is the same as 0, negative indices start from -1:"
      ]
    },
    {
      "cell_type": "code",
      "execution_count": null,
      "metadata": {
        "colab": {
          "base_uri": "https://localhost:8080/",
          "height": 35
        },
        "id": "aEvFYp9CQmgR",
        "outputId": "5d8ffe9b-dc3c-4afd-aafc-419693edc6de"
      },
      "outputs": [
        {
          "output_type": "execute_result",
          "data": {
            "text/plain": [
              "'n'"
            ],
            "application/vnd.google.colaboratory.intrinsic+json": {
              "type": "string"
            }
          },
          "metadata": {},
          "execution_count": 5
        }
      ],
      "source": [
        "word[-1]  # Last character."
      ]
    },
    {
      "cell_type": "code",
      "execution_count": null,
      "metadata": {
        "colab": {
          "base_uri": "https://localhost:8080/",
          "height": 35
        },
        "id": "OiWEhZF2Qmgh",
        "outputId": "d24324d6-5621-491f-b7fd-990a2b080d9a"
      },
      "outputs": [
        {
          "output_type": "execute_result",
          "data": {
            "text/plain": [
              "'o'"
            ],
            "application/vnd.google.colaboratory.intrinsic+json": {
              "type": "string"
            }
          },
          "metadata": {},
          "execution_count": 6
        }
      ],
      "source": [
        "word[-2]  # Second-last character."
      ]
    },
    {
      "cell_type": "markdown",
      "metadata": {
        "id": "lj2Ie4OeQmg1"
      },
      "source": [
        "In addition to indexing, which extracts individual characters, Python also supports *slicing*, which extracts a substring. To slice, you indicate a *range*(In math, range is defined as the difference between the highest and lowest values, for example range of `3:9` is 9 - 3 = `6`) in the format `start:end`, where the start position is included but the end position is excluded:"
      ]
    },
    {
      "cell_type": "code",
      "execution_count": null,
      "metadata": {
        "colab": {
          "base_uri": "https://localhost:8080/",
          "height": 35
        },
        "id": "pPHrYlSjQmg2",
        "outputId": "f648ab03-c9af-4da0-bedd-6ee5f132fd4a"
      },
      "outputs": [
        {
          "output_type": "execute_result",
          "data": {
            "text/plain": [
              "'Py'"
            ],
            "application/vnd.google.colaboratory.intrinsic+json": {
              "type": "string"
            }
          },
          "metadata": {},
          "execution_count": 7
        }
      ],
      "source": [
        "word[0:2]  # Only characters in the range of position 0 to 2."
      ]
    },
    {
      "cell_type": "code",
      "execution_count": null,
      "metadata": {
        "colab": {
          "base_uri": "https://localhost:8080/",
          "height": 35
        },
        "id": "Mqr4JdOhQmhI",
        "outputId": "aa8ec2a9-f2aa-4930-bbf7-3b6af2c9e374"
      },
      "outputs": [
        {
          "output_type": "execute_result",
          "data": {
            "text/plain": [
              "'tho'"
            ],
            "application/vnd.google.colaboratory.intrinsic+json": {
              "type": "string"
            }
          },
          "metadata": {},
          "execution_count": 8
        }
      ],
      "source": [
        "word[2:5]  # Only characters in the range of position 2 to 5"
      ]
    },
    {
      "cell_type": "markdown",
      "metadata": {
        "id": "j-Btdoi0QmhO"
      },
      "source": [
        "If you omit either position, the default start position is 0 and the default end is the length of the string:"
      ]
    },
    {
      "cell_type": "code",
      "execution_count": null,
      "metadata": {
        "colab": {
          "base_uri": "https://localhost:8080/",
          "height": 35
        },
        "id": "zDAh6H1vQmhQ",
        "outputId": "3de46092-68d2-45f5-cd18-2c0ce3e30c49"
      },
      "outputs": [
        {
          "output_type": "execute_result",
          "data": {
            "text/plain": [
              "'Py'"
            ],
            "application/vnd.google.colaboratory.intrinsic+json": {
              "type": "string"
            }
          },
          "metadata": {},
          "execution_count": 9
        }
      ],
      "source": [
        "word[:2]   # :2 is 0 to 2"
      ]
    },
    {
      "cell_type": "code",
      "execution_count": null,
      "metadata": {
        "colab": {
          "base_uri": "https://localhost:8080/",
          "height": 35
        },
        "id": "t6hWlz4fQmhg",
        "outputId": "a71f3820-f221-4f61-9b93-1e775a59c808"
      },
      "outputs": [
        {
          "output_type": "execute_result",
          "data": {
            "text/plain": [
              "'on'"
            ],
            "application/vnd.google.colaboratory.intrinsic+json": {
              "type": "string"
            }
          },
          "metadata": {},
          "execution_count": 10
        }
      ],
      "source": [
        "word[4:]  # 4: is 4 to 5"
      ]
    },
    {
      "cell_type": "code",
      "execution_count": null,
      "metadata": {
        "colab": {
          "base_uri": "https://localhost:8080/",
          "height": 35
        },
        "id": "5sdb_spFQmhm",
        "outputId": "ad71915a-100a-4d73-ed8d-824e008b67a0"
      },
      "outputs": [
        {
          "output_type": "execute_result",
          "data": {
            "text/plain": [
              "'on'"
            ],
            "application/vnd.google.colaboratory.intrinsic+json": {
              "type": "string"
            }
          },
          "metadata": {},
          "execution_count": 11
        }
      ],
      "source": [
        "# This one is tricky! -2 is the 2nd last character, so this is equivalent to the above\n",
        "word[-2:]"
      ]
    },
    {
      "cell_type": "markdown",
      "metadata": {
        "id": "48MTfYuVQmh1"
      },
      "source": [
        "One way to remember how slices work is to think of the indices as pointing between characters, with the left edge of the first character numbered 0. Then the right edge of the last character of a string of *n* characters has index *n*. For example:"
      ]
    },
    {
      "cell_type": "raw",
      "metadata": {
        "id": "--UwXTMOQmh2"
      },
      "source": [
        "```\n",
        "+---+---+---+---+---+---+\n",
        "| P | y | t | h | o | n |\n",
        "+---+---+---+---+---+---+\n",
        "0   1   2   3   4   5   6\n",
        "-6  -5  -4  -3  -2  -1\n",
        "```"
      ]
    },
    {
      "cell_type": "markdown",
      "metadata": {
        "id": "D-wwcTQnQmh7"
      },
      "source": [
        "The first row of numbers gives the position of the indices 0...6 in the string; the second row gives the corresponding negative indices. The slice from *i* to *j* consists of all characters between the edges labeled *i* and *j*, respectively.\n",
        "\n",
        "For non-negative indices, the length of a slice is the difference of the indices, if both are within bounds. For example, the length of `word[1:3]` is 2.\n",
        "\n",
        "Attempting to use an index that is too large results in an error:"
      ]
    },
    {
      "cell_type": "code",
      "execution_count": null,
      "metadata": {
        "colab": {
          "base_uri": "https://localhost:8080/",
          "height": 35
        },
        "id": "8j-XdV25Qmh-",
        "outputId": "b8abb5b6-c9cd-4a01-89f7-d16ca3bdd091"
      },
      "outputs": [
        {
          "output_type": "execute_result",
          "data": {
            "text/plain": [
              "'hon'"
            ],
            "application/vnd.google.colaboratory.intrinsic+json": {
              "type": "string"
            }
          },
          "metadata": {},
          "execution_count": 12
        }
      ],
      "source": [
        "word[3:6]  # The word only has 6 characters."
      ]
    },
    {
      "cell_type": "markdown",
      "metadata": {
        "id": "yOVskCFIQmiS"
      },
      "source": [
        "However, when used in a range, an index that's too large defaults to the size of the string and does not give an error. This characteristic is useful when you always want to slice at a particular index regardless of the length of a string:"
      ]
    },
    {
      "cell_type": "code",
      "execution_count": null,
      "metadata": {
        "colab": {
          "base_uri": "https://localhost:8080/",
          "height": 35
        },
        "id": "c6d0XUWoQmiV",
        "outputId": "5b6164b2-9250-4efe-a067-dfeed6a12640"
      },
      "outputs": [
        {
          "output_type": "execute_result",
          "data": {
            "text/plain": [
              "'on'"
            ],
            "application/vnd.google.colaboratory.intrinsic+json": {
              "type": "string"
            }
          },
          "metadata": {},
          "execution_count": 13
        }
      ],
      "source": [
        "word[4:6]"
      ]
    },
    {
      "cell_type": "markdown",
      "metadata": {
        "id": "8MjXu2B4Qmid"
      },
      "source": [
        "Strings are immutable which means they do not support assignment of a new value to an indexed postion. To know more on what immutable means, check this [link](https://docs.python.org/3.5/glossary.html#term-immutable). Let's check the example below to understand it in practise"
      ]
    },
    {
      "cell_type": "code",
      "execution_count": null,
      "metadata": {
        "id": "iOE9BhZkQmie",
        "outputId": "b309477b-be19-4ff7-f116-84c667d3af4b",
        "colab": {
          "base_uri": "https://localhost:8080/",
          "height": 35
        }
      },
      "outputs": [
        {
          "output_type": "execute_result",
          "data": {
            "text/plain": [
              "'ta'"
            ],
            "application/vnd.google.colaboratory.intrinsic+json": {
              "type": "string"
            }
          },
          "metadata": {},
          "execution_count": 19
        }
      ],
      "source": [
        "word[2] + 'a'"
      ]
    },
    {
      "cell_type": "markdown",
      "metadata": {
        "id": "u2Q6nhiQQmik"
      },
      "source": [
        "The following cell also produces an error:"
      ]
    },
    {
      "cell_type": "code",
      "execution_count": null,
      "metadata": {
        "id": "7sbRpYz0Qmim",
        "outputId": "2e4fdaa9-214f-4c97-9773-75d7d7d72627",
        "colab": {
          "base_uri": "https://localhost:8080/",
          "height": 35
        }
      },
      "outputs": [
        {
          "output_type": "execute_result",
          "data": {
            "text/plain": [
              "'thonpy'"
            ],
            "application/vnd.google.colaboratory.intrinsic+json": {
              "type": "string"
            }
          },
          "metadata": {},
          "execution_count": 18
        }
      ],
      "source": [
        "word[2:] + 'py'"
      ]
    },
    {
      "cell_type": "code",
      "execution_count": null,
      "metadata": {
        "id": "ZFhliyDtLUuQ"
      },
      "outputs": [],
      "source": []
    },
    {
      "cell_type": "markdown",
      "metadata": {
        "id": "VXMu0dVlQmio"
      },
      "source": [
        "A slice it itself a value that you can concatenate with other values using `+`:"
      ]
    },
    {
      "cell_type": "code",
      "execution_count": null,
      "metadata": {
        "id": "4YWQR403Qmip",
        "outputId": "5a74f7d9-a62a-4874-dda1-c27ca93f655f",
        "colab": {
          "base_uri": "https://localhost:8080/",
          "height": 35
        }
      },
      "outputs": [
        {
          "output_type": "execute_result",
          "data": {
            "text/plain": [
              "'Jython'"
            ],
            "application/vnd.google.colaboratory.intrinsic+json": {
              "type": "string"
            }
          },
          "metadata": {},
          "execution_count": 16
        }
      ],
      "source": [
        "'J' + word[1:]"
      ]
    },
    {
      "cell_type": "code",
      "execution_count": null,
      "metadata": {
        "id": "sEtHIAqMQmiw",
        "outputId": "9d5e8fdf-5a3b-43b4-979a-bf9d9b2bac40",
        "colab": {
          "base_uri": "https://localhost:8080/",
          "height": 35
        }
      },
      "outputs": [
        {
          "output_type": "execute_result",
          "data": {
            "text/plain": [
              "'PyPy'"
            ],
            "application/vnd.google.colaboratory.intrinsic+json": {
              "type": "string"
            }
          },
          "metadata": {},
          "execution_count": 17
        }
      ],
      "source": [
        "word[:2] + 'Py'"
      ]
    },
    {
      "cell_type": "markdown",
      "metadata": {
        "id": "9XmlQMh1Qmiz"
      },
      "source": [
        "A slice, however, is not a string literal and cannot be used with automatic concatenation. The following code produces an error:"
      ]
    },
    {
      "cell_type": "code",
      "execution_count": null,
      "metadata": {
        "id": "rfHvpWLzQmi0",
        "outputId": "01ce43c6-4b36-4e29-9b6e-1397e04c97ae",
        "colab": {
          "base_uri": "https://localhost:8080/"
        }
      },
      "outputs": [
        {
          "output_type": "execute_result",
          "data": {
            "text/plain": [
              "True"
            ]
          },
          "metadata": {},
          "execution_count": 21
        }
      ],
      "source": [
        "word[:2] == 'Py'    # Slice is not a literal; produces an error"
      ]
    },
    {
      "cell_type": "markdown",
      "metadata": {
        "id": "7Vrgw036QmjC"
      },
      "source": [
        "The built-in function [`len()`](https://docs.python.org/3.5/library/functions.html#len) returns the length of a string:"
      ]
    },
    {
      "cell_type": "code",
      "execution_count": null,
      "metadata": {
        "id": "9ggcwHTEQmjD",
        "outputId": "7835f84a-30dc-4219-9fe7-967ee31597c5",
        "colab": {
          "base_uri": "https://localhost:8080/"
        }
      },
      "outputs": [
        {
          "output_type": "execute_result",
          "data": {
            "text/plain": [
              "36"
            ]
          },
          "metadata": {},
          "execution_count": 22
        }
      ],
      "source": [
        "text = 'Using Python for data science is fun'\n",
        "len(text) #Notice that even the spaces are counted in the length"
      ]
    },
    {
      "cell_type": "markdown",
      "metadata": {
        "id": "bzBdwrZEQmjK"
      },
      "source": [
        "# Lists"
      ]
    },
    {
      "cell_type": "markdown",
      "metadata": {
        "id": "yT6OJlclQmjL"
      },
      "source": [
        "A list is an **ordered** sequence of items, meaning items in the list are stored in the `order` of which it was input.\n",
        "Remember, a list may contain different types of items.\n",
        "To define a list, you must put values separated with commas in square brackets."
      ]
    },
    {
      "cell_type": "code",
      "execution_count": null,
      "metadata": {
        "id": "8SBi7hzbQmjM",
        "outputId": "7f49567b-98bb-423b-8bcd-bdf8907bc10f",
        "colab": {
          "base_uri": "https://localhost:8080/"
        }
      },
      "outputs": [
        {
          "output_type": "execute_result",
          "data": {
            "text/plain": [
              "list"
            ]
          },
          "metadata": {},
          "execution_count": 23
        }
      ],
      "source": [
        "Students=['Vicky',25,'Jun Kai',12] # Here the name of the student is stored with their respective roll numbers\n",
        "type(Students)"
      ]
    },
    {
      "cell_type": "markdown",
      "metadata": {
        "id": "1AbKito1QmjT"
      },
      "source": [
        "Lists are mutable(can be changed or updated) unlike Strings. Like strings (and all other built-in [sequence](https://docs.python.org/3.5/glossary.html#term-sequence) types), lists can be indexed and sliced:"
      ]
    },
    {
      "cell_type": "code",
      "execution_count": null,
      "metadata": {
        "id": "rsaF8QBZQmjU",
        "outputId": "d296e673-7e98-4ffa-d0e7-1cfa92a4cc91",
        "colab": {
          "base_uri": "https://localhost:8080/",
          "height": 35
        }
      },
      "outputs": [
        {
          "output_type": "execute_result",
          "data": {
            "text/plain": [
              "'Vicky'"
            ],
            "application/vnd.google.colaboratory.intrinsic+json": {
              "type": "string"
            }
          },
          "metadata": {},
          "execution_count": 24
        }
      ],
      "source": [
        "Students[0]  # Indexing returns the item."
      ]
    },
    {
      "cell_type": "code",
      "execution_count": null,
      "metadata": {
        "id": "Tyus-1dWQmjc",
        "outputId": "8b996478-3378-4fcf-be95-e023e8e88aa4",
        "colab": {
          "base_uri": "https://localhost:8080/"
        }
      },
      "outputs": [
        {
          "output_type": "execute_result",
          "data": {
            "text/plain": [
              "12"
            ]
          },
          "metadata": {},
          "execution_count": 25
        }
      ],
      "source": [
        "Students[-1]"
      ]
    },
    {
      "cell_type": "code",
      "execution_count": null,
      "metadata": {
        "id": "nt7XfmgPQmjz",
        "outputId": "27647c5c-dc2d-46a0-d4e9-40eef47c9ef8",
        "colab": {
          "base_uri": "https://localhost:8080/"
        }
      },
      "outputs": [
        {
          "output_type": "execute_result",
          "data": {
            "text/plain": [
              "[25, 'Jun Kai', 12]"
            ]
          },
          "metadata": {},
          "execution_count": 26
        }
      ],
      "source": [
        "Students[-3:]  # Slicing returns a new list."
      ]
    },
    {
      "cell_type": "code",
      "execution_count": null,
      "metadata": {
        "id": "Vecj91UrQmkH",
        "outputId": "966f134d-a93d-41d6-9b6f-1788825204fb",
        "colab": {
          "base_uri": "https://localhost:8080/"
        }
      },
      "outputs": [
        {
          "output_type": "execute_result",
          "data": {
            "text/plain": [
              "['Vicky', 25, 'Jun Kai', 12]"
            ]
          },
          "metadata": {},
          "execution_count": 27
        }
      ],
      "source": [
        "Students[:]"
      ]
    },
    {
      "cell_type": "markdown",
      "metadata": {
        "id": "ljUfZHHkQmkQ"
      },
      "source": [
        "Lists also support concatenation with the `+` operator:"
      ]
    },
    {
      "cell_type": "code",
      "execution_count": null,
      "metadata": {
        "id": "aXKpnbZkQmkQ",
        "outputId": "a36d97e9-3fab-42d3-a2a5-51c83f024c32",
        "colab": {
          "base_uri": "https://localhost:8080/"
        }
      },
      "outputs": [
        {
          "output_type": "execute_result",
          "data": {
            "text/plain": [
              "['Vicky', 25, 'Jun Kai', 12, 'Gabrielle', 13, 'Cao', 47]"
            ]
          },
          "metadata": {},
          "execution_count": 28
        }
      ],
      "source": [
        "Students + ['Gabrielle',13, 'Cao', 47]"
      ]
    },
    {
      "cell_type": "markdown",
      "metadata": {
        "id": "LINx1gxIQmkb"
      },
      "source": [
        "As mentioned at the start, unlike strings, which are immutable, lists are a mutable type, which means you can change any value in the list:"
      ]
    },
    {
      "cell_type": "code",
      "execution_count": null,
      "metadata": {
        "id": "uVF_y-ZiQmki"
      },
      "outputs": [],
      "source": [
        "Students=['Vicky',25,'Jun Kai',12] #Something is wrong here....\n",
        "#Vicky's roll number is 10"
      ]
    },
    {
      "cell_type": "code",
      "execution_count": null,
      "metadata": {
        "id": "lFCru_AMQmkm",
        "outputId": "61887fc9-f937-4a9d-e003-597e722bc86b",
        "colab": {
          "base_uri": "https://localhost:8080/"
        }
      },
      "outputs": [
        {
          "output_type": "execute_result",
          "data": {
            "text/plain": [
              "['Vicky', 10, 'Jun Kai', 12]"
            ]
          },
          "metadata": {},
          "execution_count": 30
        }
      ],
      "source": [
        "Students[1]=10 #correcting the wrong value\n",
        "Students"
      ]
    },
    {
      "cell_type": "markdown",
      "metadata": {
        "id": "9G9-ltu8Qmks"
      },
      "source": [
        "Use the list's `append()` method to add new items to the end of the list:"
      ]
    },
    {
      "cell_type": "code",
      "execution_count": null,
      "metadata": {
        "id": "AEh8DPBWQmkt",
        "outputId": "afca357e-dcc0-41fe-a421-67ce896422d9",
        "colab": {
          "base_uri": "https://localhost:8080/"
        }
      },
      "outputs": [
        {
          "output_type": "execute_result",
          "data": {
            "text/plain": [
              "['Vicky', 10, 'Jun Kai', 12, 'Isaac']"
            ]
          },
          "metadata": {},
          "execution_count": 31
        }
      ],
      "source": [
        "Students.append('Isaac') #Note you can only add one argument at a time\n",
        "Students\n"
      ]
    },
    {
      "cell_type": "code",
      "execution_count": null,
      "metadata": {
        "id": "pk3in1B9Qmky",
        "outputId": "ebd771d7-c417-410e-b665-5d7121ef1361",
        "colab": {
          "base_uri": "https://localhost:8080/"
        }
      },
      "outputs": [
        {
          "output_type": "execute_result",
          "data": {
            "text/plain": [
              "['Vicky', 10, 'Jun Kai', 12, 'Isaac', 15]"
            ]
          },
          "metadata": {},
          "execution_count": 32
        }
      ],
      "source": [
        "Students.append(15) #Adding the second argument\n",
        "Students"
      ]
    },
    {
      "cell_type": "markdown",
      "metadata": {
        "id": "oqCY4CtCQmk4"
      },
      "source": [
        "You can even assign to slices, which can change the size of the list or clear it entirely:"
      ]
    },
    {
      "cell_type": "code",
      "execution_count": null,
      "metadata": {
        "id": "z4FEGFWyQmk6",
        "outputId": "40881efb-2dca-4344-9696-d04e7ecf4603",
        "colab": {
          "base_uri": "https://localhost:8080/"
        }
      },
      "outputs": [
        {
          "output_type": "execute_result",
          "data": {
            "text/plain": [
              "['Vicky', 10, 'Ming Ian', 21, 15]"
            ]
          },
          "metadata": {},
          "execution_count": 33
        }
      ],
      "source": [
        "#Replace some values\n",
        "Students[2:5]=['Ming Ian', 21]\n",
        "Students"
      ]
    },
    {
      "cell_type": "code",
      "execution_count": null,
      "metadata": {
        "id": "cLaFnrqhQmlA",
        "outputId": "7515f648-8827-4e3f-e84c-05c327d594b5",
        "colab": {
          "base_uri": "https://localhost:8080/"
        }
      },
      "outputs": [
        {
          "output_type": "execute_result",
          "data": {
            "text/plain": [
              "['Vicky', 10]"
            ]
          },
          "metadata": {},
          "execution_count": 34
        }
      ],
      "source": [
        "# Now remove them.\n",
        "Students[2:5] = []\n",
        "Students"
      ]
    },
    {
      "cell_type": "markdown",
      "metadata": {
        "id": "BBULIWX7QmlE"
      },
      "source": [
        "The built-in len() function also applies to lists:"
      ]
    },
    {
      "cell_type": "code",
      "execution_count": null,
      "metadata": {
        "id": "IduWyDgDQmlG",
        "outputId": "732b9667-ad79-4117-cf29-168727e413fd",
        "colab": {
          "base_uri": "https://localhost:8080/"
        }
      },
      "outputs": [
        {
          "output_type": "execute_result",
          "data": {
            "text/plain": [
              "2"
            ]
          },
          "metadata": {},
          "execution_count": 35
        }
      ],
      "source": [
        "len(Students)"
      ]
    },
    {
      "cell_type": "markdown",
      "metadata": {
        "id": "RX4sCbu8QmlK"
      },
      "source": [
        "You can nest lists, which means to create lists that contain other lists. For example:"
      ]
    },
    {
      "cell_type": "code",
      "execution_count": null,
      "metadata": {
        "id": "c9O1U64eQmlL",
        "outputId": "7b52e5a7-b231-47f3-d934-f9d09a30ae2f",
        "colab": {
          "base_uri": "https://localhost:8080/"
        }
      },
      "outputs": [
        {
          "output_type": "execute_result",
          "data": {
            "text/plain": [
              "[['a', 'b', 'c'], [1, 2, 3]]"
            ]
          },
          "metadata": {},
          "execution_count": 36
        }
      ],
      "source": [
        "a = ['a', 'b', 'c'] #List 1\n",
        "n = [1, 2, 3] #List 2\n",
        "x = [a, n] # List x now contains List 1 and List 2\n",
        "x"
      ]
    },
    {
      "cell_type": "code",
      "execution_count": null,
      "metadata": {
        "id": "YmCP-8eQQmlO",
        "outputId": "48fb8141-a00f-4acf-e3a7-72bce8db6c70",
        "colab": {
          "base_uri": "https://localhost:8080/"
        }
      },
      "outputs": [
        {
          "output_type": "stream",
          "name": "stdout",
          "text": [
            "List 1: ['a', 'b', 'c']\n",
            "List 2: [1, 2, 3]\n"
          ]
        }
      ],
      "source": [
        "x[0] # The first element of the nested list is List 1\n",
        "x[1] # The second element of the nested list is list 2\n",
        "print (\"List 1:\",x[0])\n",
        "print (\"List 2:\",x[1])"
      ]
    },
    {
      "cell_type": "code",
      "execution_count": null,
      "metadata": {
        "id": "DGgaMGogQmlT",
        "outputId": "ce4839a2-a2c8-414e-b11d-e420319b2378",
        "colab": {
          "base_uri": "https://localhost:8080/",
          "height": 35
        }
      },
      "outputs": [
        {
          "output_type": "execute_result",
          "data": {
            "text/plain": [
              "'b'"
            ],
            "application/vnd.google.colaboratory.intrinsic+json": {
              "type": "string"
            }
          },
          "metadata": {},
          "execution_count": 38
        }
      ],
      "source": [
        "#This would give you, the 2nd element of List 1, which is 'b'\n",
        "x[0][1]"
      ]
    },
    {
      "cell_type": "markdown",
      "metadata": {
        "id": "yR8oZIPOQmlX"
      },
      "source": [
        "# Tuples"
      ]
    },
    {
      "cell_type": "markdown",
      "metadata": {
        "id": "-4fhSP4kQmlY"
      },
      "source": [
        "A tuple is an ordered sequence of items. You might be wondering now then how is it different from lists?\n",
        "\n",
        "The main differences between tuples and lists are :\n",
        "1. Tuples cannot be modified element wise like lists (Objects which cannot be modified in such a manner are described as **immutable** objects.\n",
        "2. Tuples use parentheses, whereas lists use square brackets."
      ]
    },
    {
      "cell_type": "code",
      "execution_count": null,
      "metadata": {
        "id": "-JaURertQmlY",
        "outputId": "d0b9bdf4-d9c2-4036-f0f8-acc40b925615",
        "colab": {
          "base_uri": "https://localhost:8080/"
        }
      },
      "outputs": [
        {
          "output_type": "stream",
          "name": "stdout",
          "text": [
            "('Susan', 25, 'John', 12)\n"
          ]
        }
      ],
      "source": [
        "Students_new = ('Susan',25,'John',12) #Tuple being defined\n",
        "print(Students_new)"
      ]
    },
    {
      "cell_type": "code",
      "execution_count": null,
      "metadata": {
        "colab": {
          "base_uri": "https://localhost:8080/"
        },
        "id": "LN0-jf8vQmlh",
        "outputId": "7807a7c9-9e8c-4203-8e7f-349b3362a38c"
      },
      "outputs": [
        {
          "output_type": "stream",
          "name": "stdout",
          "text": [
            "('Susan', 25, 'John', 12)\n"
          ]
        }
      ],
      "source": [
        "Students_list = list(Students_new) #Converting the tuple into a list\n",
        "\n",
        "Students_list[1]= '26'\n",
        "print(Students_new) #Notice the error which shows up in the output"
      ]
    },
    {
      "cell_type": "markdown",
      "metadata": {
        "id": "-KWdBt3hQmlx"
      },
      "source": [
        "# Dictionary"
      ]
    },
    {
      "cell_type": "markdown",
      "metadata": {
        "id": "SJYdqkn6Qmlx"
      },
      "source": [
        "Dictionary is an unordered collection of key-value pairs.\n",
        "\n",
        "In Python, dictionaries are defined within braces {} with each item being a pair in the form **key:value**. Key and value can be of any type.\n",
        "\n",
        "A Dictionary in Python works similar to the Dictionary in a real world. Keys of a Dictionary must be unique and\n",
        "of immutable data type such as Strings, Integers and tuples, but the key-values can be repeated and be of any type.\n",
        "\n",
        "You might want to use a Dictionary over Tuples as it is quicker to access data if the data source is substantially large as finding data in Tuples requires looping which we will go through later"
      ]
    },
    {
      "cell_type": "code",
      "execution_count": null,
      "metadata": {
        "id": "vU4akZPmQmly",
        "outputId": "181a71e8-ef1e-4e60-9627-9bc8dd5d784a",
        "colab": {
          "base_uri": "https://localhost:8080/",
          "height": 35
        }
      },
      "outputs": [
        {
          "output_type": "execute_result",
          "data": {
            "text/plain": [
              "'Monday'"
            ],
            "application/vnd.google.colaboratory.intrinsic+json": {
              "type": "string"
            }
          },
          "metadata": {},
          "execution_count": 43
        }
      ],
      "source": [
        "Time={'Day':'Monday','Date':[1,2,3]}\n",
        "type(Time)\n",
        "Time['Day'] #Using key to display respective value"
      ]
    },
    {
      "cell_type": "code",
      "execution_count": null,
      "metadata": {
        "colab": {
          "base_uri": "https://localhost:8080/",
          "height": 141
        },
        "id": "aea1nt3dQml7",
        "outputId": "abad7eec-9109-4eec-ce1c-7836a1ca89c7"
      },
      "outputs": [
        {
          "output_type": "error",
          "ename": "KeyError",
          "evalue": "'Monday'",
          "traceback": [
            "\u001b[0;31m---------------------------------------------------------------------------\u001b[0m",
            "\u001b[0;31mKeyError\u001b[0m                                  Traceback (most recent call last)",
            "\u001b[0;32m<ipython-input-44-607835fdbeda>\u001b[0m in \u001b[0;36m<cell line: 1>\u001b[0;34m()\u001b[0m\n\u001b[0;32m----> 1\u001b[0;31m \u001b[0mTime\u001b[0m\u001b[0;34m[\u001b[0m\u001b[0;34m'Monday'\u001b[0m\u001b[0;34m]\u001b[0m \u001b[0;31m#Reverse cannot be done, i.e using value one cannot display key\u001b[0m\u001b[0;34m\u001b[0m\u001b[0;34m\u001b[0m\u001b[0m\n\u001b[0m",
            "\u001b[0;31mKeyError\u001b[0m: 'Monday'"
          ]
        }
      ],
      "source": [
        "Time['Monday'] #Reverse cannot be done, i.e using value one cannot display key"
      ]
    },
    {
      "cell_type": "markdown",
      "metadata": {
        "id": "JMyL5VsTQml-"
      },
      "source": [
        "# Type-Conversion in Python"
      ]
    },
    {
      "cell_type": "markdown",
      "metadata": {
        "id": "YvyMdbr6Qml_"
      },
      "source": [
        "As the name suggests, type-conversion in Python is the process of converting one data type to another. This can be done into two ways :\n",
        "\n",
        "**1. Implicit Type Conversion** - In this type of type-conversion, Python automatically converts one data-type to another data-type. The user need not give specific instructions for carrying this conversion out.\n",
        "\n",
        "**2. Explicit Type Conversion** - In Explicit type-conversion, the user sets preference from converting one data-type to another desired data-type."
      ]
    },
    {
      "cell_type": "code",
      "execution_count": null,
      "metadata": {
        "id": "Yvsni_SFQml_",
        "outputId": "cb853c02-8fb8-48fd-adaa-f4fd69238fdd",
        "colab": {
          "base_uri": "https://localhost:8080/"
        }
      },
      "outputs": [
        {
          "output_type": "stream",
          "name": "stdout",
          "text": [
            "datatype of integer: <class 'int'>\n",
            "datatype of float_n: <class 'float'>\n",
            "Value of add: 151.55\n",
            "datatype of add: <class 'float'>\n"
          ]
        }
      ],
      "source": [
        "integer = 150\n",
        "float_n = 1.55\n",
        "\n",
        "add = integer + float_n\n",
        "\n",
        "print(\"datatype of integer:\",type(integer))\n",
        "print(\"datatype of float_n:\",type(float_n))\n",
        "\n",
        "print(\"Value of add:\",add)\n",
        "print(\"datatype of add:\",type(add))"
      ]
    },
    {
      "cell_type": "markdown",
      "metadata": {
        "id": "eO-lZtpMQmmC"
      },
      "source": [
        "In the above example we can clearly see how python implicitly set up the data-type of the variable 'add'. Let's try adding a string and an integer to see what happens!"
      ]
    },
    {
      "cell_type": "code",
      "execution_count": null,
      "metadata": {
        "id": "cBq1jSD1QmmD"
      },
      "outputs": [],
      "source": [
        "string = '300'\n",
        "new = integer + int(string)"
      ]
    },
    {
      "cell_type": "code",
      "execution_count": null,
      "metadata": {
        "id": "Wsn7moyQQmmF",
        "outputId": "12c0386c-b5b6-457b-dd66-d30d665b2b4f",
        "colab": {
          "base_uri": "https://localhost:8080/"
        }
      },
      "outputs": [
        {
          "output_type": "stream",
          "name": "stdout",
          "text": [
            "Data type of integer: <class 'int'>\n",
            "Data type of string before explicit conversion: <class 'str'>\n",
            "Data type of string after explicit conversion: <class 'int'>\n",
            "Sum of integer and string: 450\n",
            "Data type of the sum: <class 'int'>\n"
          ]
        }
      ],
      "source": [
        "integer = 150\n",
        "string = \"300\"\n",
        "\n",
        "print(\"Data type of integer:\",type(integer))\n",
        "print(\"Data type of string before explicit conversion:\",type(string))\n",
        "\n",
        "string = int(string)\n",
        "print(\"Data type of string after explicit conversion:\",type(string))\n",
        "\n",
        "new = integer + string\n",
        "\n",
        "print(\"Sum of integer and string:\",new)\n",
        "print(\"Data type of the sum:\",type(new))"
      ]
    },
    {
      "cell_type": "markdown",
      "metadata": {
        "id": "h_qAJ56LQmmH"
      },
      "source": [
        "Explicit type conversion is also known as **\"Typecasting\"**. The major difference between them is the **involvement of the user** and the fact that in implicit conversion, Python gives **preference to data type which would avoid data loss**. For example if we are adding a float with an int type the result would always be float else the sum would get truncated if the result is converted into int, thus resulting in loss of data."
      ]
    },
    {
      "cell_type": "markdown",
      "metadata": {
        "id": "nkzEuoQFQmnH"
      },
      "source": [
        "# Flow Control in Python"
      ]
    },
    {
      "cell_type": "markdown",
      "metadata": {
        "id": "9vgEmdKmQmnI"
      },
      "source": [
        "In general, statements are executed sequentially: The first statement in a function is executed first, followed by the second, and so on. There may be a situation when you need to execute a block of code several number of times.\n",
        "\n",
        "Programming languages provide various control structures that allow for more complicated execution paths.\n",
        "\n",
        "A loop statement allows us to execute a statement or group of statements multiple times.\n",
        "\n",
        "For more infortmation click [here](https://www.tutorialspoint.com/python/python_loops.htm)"
      ]
    },
    {
      "cell_type": "markdown",
      "metadata": {
        "id": "aQ_lwaTLQmnI"
      },
      "source": [
        "**If-Else Statement**\n",
        "\n",
        "A situation where this may be used is when you would like to check for a condition(user-defined) to allow a particular code to execute, such as checking for password from user input."
      ]
    },
    {
      "cell_type": "code",
      "execution_count": null,
      "metadata": {
        "id": "daALlmRhQmnJ",
        "colab": {
          "base_uri": "https://localhost:8080/"
        },
        "outputId": "ae21f6b1-c686-41d0-aeb3-d41789aacf76"
      },
      "outputs": [
        {
          "output_type": "stream",
          "name": "stdout",
          "text": [
            "b\n"
          ]
        }
      ],
      "source": [
        "a,b = 2,3 #This is a way to assign values to multiple variables in the same line\n",
        "\n",
        "if a > b: #If a is greater than b, print the value of a\n",
        "    print(\"a\") #Indentation using the `Tab` key is important to denote that this print(\"a\") is for the first if statement\n",
        "else:\n",
        "    print(\"b\")#else print the value of b"
      ]
    },
    {
      "cell_type": "code",
      "execution_count": null,
      "metadata": {
        "id": "tTChTiUOQmnN",
        "colab": {
          "base_uri": "https://localhost:8080/"
        },
        "outputId": "10087c55-8a76-4b41-9969-a72b67c54d7f"
      },
      "outputs": [
        {
          "output_type": "stream",
          "name": "stdout",
          "text": [
            "7 is good\n"
          ]
        }
      ],
      "source": [
        "a = 7\n",
        "#If a is greater than the value 6, execute the statement below it\n",
        "if a > 6:\n",
        "     print(f\"{a} is good\")"
      ]
    },
    {
      "cell_type": "markdown",
      "metadata": {
        "id": "s4Xi17_1QmnQ"
      },
      "source": [
        "**While Loop**"
      ]
    },
    {
      "cell_type": "markdown",
      "metadata": {
        "id": "KNjNdpZKQmnR"
      },
      "source": [
        "A while loop in python iterates till its condition becomes False. In other words, it executes the statements under itself while the condition it takes is True. When the program control reaches the while loop, the condition is checked. If the condition is true, the block of code under it is executed. Remember to indent all statements under the loop equally. After that, the condition is checked again. This continues until the condition becomes false. Then, the first statement, if any, after the loop is executed."
      ]
    },
    {
      "cell_type": "code",
      "execution_count": null,
      "metadata": {
        "id": "4xYqCDhzQmnR",
        "colab": {
          "base_uri": "https://localhost:8080/"
        },
        "outputId": "0d5de37a-6932-44e7-c7f6-44565923ef84"
      },
      "outputs": [
        {
          "output_type": "stream",
          "name": "stdout",
          "text": [
            "0\n",
            "1\n",
            "2\n",
            "3\n",
            "4\n",
            "5\n",
            "6\n",
            "7\n",
            "8\n",
            "Loop has ended at 8, can you tell why?\n"
          ]
        }
      ],
      "source": [
        "a = 0 #Assign the value 0 to the variable a\n",
        "\n",
        "#The condition of this loop is to run *while* the value of a is LESS THAN 9\n",
        "while(a < 9):\n",
        "    print(a) #This print is to demonstrate how the condition functions in a loop using an number increment\n",
        "    a += 1\n",
        "\n",
        "print(\"Loop has ended at 8, can you tell why?\")\n"
      ]
    },
    {
      "cell_type": "markdown",
      "metadata": {
        "id": "4dmfDaPaQmnU"
      },
      "source": [
        "**For Loop**"
      ]
    },
    {
      "cell_type": "markdown",
      "metadata": {
        "id": "uxse4FUPQmnV"
      },
      "source": [
        "A for loop does the same thing as the example in the while loop, but makes it simpler to write and understand. For more information, click [here](https://data-flair.training/blogs/python-loop/)"
      ]
    },
    {
      "cell_type": "code",
      "execution_count": null,
      "metadata": {
        "id": "7aXCgeP4QmnW",
        "colab": {
          "base_uri": "https://localhost:8080/"
        },
        "outputId": "963372c4-1ea2-4cfe-df3f-ee3d7e0550d1"
      },
      "outputs": [
        {
          "output_type": "stream",
          "name": "stdout",
          "text": [
            "0\n",
            "1\n",
            "2\n",
            "3\n",
            "4\n",
            "5\n",
            "6\n",
            "7\n",
            "8\n",
            "9\n"
          ]
        }
      ],
      "source": [
        "for i in range(10): #This statement creates a for loop that runs 10 times and stops\n",
        "    print(i)"
      ]
    },
    {
      "cell_type": "code",
      "execution_count": null,
      "metadata": {
        "id": "GdHwjGagQmne",
        "colab": {
          "base_uri": "https://localhost:8080/"
        },
        "outputId": "8553c0e7-8090-4681-dfbb-5e6f98275ee7"
      },
      "outputs": [
        {
          "output_type": "stream",
          "name": "stdout",
          "text": [
            "[0, 1]\n",
            "[0, 1, 1]\n",
            "[0, 1, 1, 2]\n",
            "[0, 1, 1, 2, 3]\n",
            "[0, 1, 1, 2, 3, 5]\n",
            "[0, 1, 1, 2, 3, 5, 8]\n",
            "[0, 1, 1, 2, 3, 5, 8, 13]\n",
            "[0, 1, 1, 2, 3, 5, 8, 13, 21]\n",
            "[0, 1, 1, 2, 3, 5, 8, 13, 21, 34]\n",
            "[0, 1, 1, 2, 3, 5, 8, 13, 21, 34, 55]\n"
          ]
        }
      ],
      "source": [
        "lst=[0,1]\n",
        "\n",
        "for i in range(10):\n",
        "    print(lst)\n",
        "    lst.append(lst[-1]+lst[-2])"
      ]
    },
    {
      "cell_type": "markdown",
      "metadata": {
        "id": "8GIF3-y5LUua"
      },
      "source": [
        "This example demonstrates how flow control, could be used in a simple login system, give it a try below!"
      ]
    },
    {
      "cell_type": "code",
      "execution_count": null,
      "metadata": {
        "id": "CdZTvA04Qmno",
        "outputId": "aaad1330-d653-4873-e9b4-26d2aaba48df",
        "colab": {
          "base_uri": "https://localhost:8080/"
        }
      },
      "outputs": [
        {
          "output_type": "stream",
          "name": "stdout",
          "text": [
            "enter your password:python\n",
            "Success!\n"
          ]
        }
      ],
      "source": [
        "countdown = 5 # Creating a variable to track the amount of tries left to input the correct password\n",
        "\n",
        "# Example of flow control being nested(put inside each other), this example loop allows for 6 runs before stopping\n",
        "for i in range(6):\n",
        "    password=str(input(\"enter your password:\"))#Try entering a variety of inputs and see what happens!\n",
        "    if(password == \"python\"): # The actual password\n",
        "        print(\"Success!\")\n",
        "        break # break is used to break out of the loop\n",
        "    if(countdown <= 0): # If countdown hits 0 or a negative value execute the statement underneath\n",
        "        print(\"Login failed!\")\n",
        "    else:\n",
        "        print(f\"\\n{countdown} Login attemps remaining!\") # Display the amount of login attemps left\n",
        "    countdown -= 1 # Reduce the countdown number by 1 every run"
      ]
    },
    {
      "cell_type": "markdown",
      "metadata": {
        "id": "GpAfb9IPQmmJ"
      },
      "source": [
        "# **Functions in Python**"
      ]
    },
    {
      "cell_type": "markdown",
      "metadata": {
        "id": "HI36jwFKQmmK"
      },
      "source": [
        "In programming we often come across situations where a particular block of code needs to be repeated or reused. Thus the concept of functions comes into play. A function is basically a block of code which performs a specific task.\n",
        "\n",
        "Functions make the entire code look more organised and manageable. They allow reusability of code and organise the program into small modular chunks."
      ]
    },
    {
      "cell_type": "markdown",
      "metadata": {
        "id": "hJVZzISKQmmK"
      },
      "source": [
        "**Syntax of a Function**"
      ]
    },
    {
      "cell_type": "code",
      "execution_count": null,
      "metadata": {
        "id": "je-XIAaoQmmK"
      },
      "outputs": [],
      "source": [
        "def name_of_function(parameter):\n",
        "    statements"
      ]
    },
    {
      "cell_type": "markdown",
      "metadata": {
        "id": "Qk4l2NgNQmmO"
      },
      "source": [
        "The above example illustrates how a function typically looks like. Notice it contains three parts -\n",
        "1. Keyword def that marks the start of the function header.\n",
        "2. A unique function name which helps in identifying the function.\n",
        "3. Parameters which help us in passing values through the function. They are also known as arguments and are optional.\n",
        "4. Statements consist of the code which performs the specific task for which the function is defined.\n"
      ]
    },
    {
      "cell_type": "code",
      "execution_count": null,
      "metadata": {
        "id": "p3X22xWIQmmO"
      },
      "outputs": [],
      "source": [
        "def sum(x, y): #This example shows a function which can add two numbers x & y\n",
        "    s = x+y\n",
        "    return s"
      ]
    },
    {
      "cell_type": "markdown",
      "metadata": {
        "id": "46Jtqhn5Qmmf"
      },
      "source": [
        "**Function Call**"
      ]
    },
    {
      "cell_type": "code",
      "execution_count": null,
      "metadata": {
        "id": "IPeV9Re1Qmmg",
        "colab": {
          "base_uri": "https://localhost:8080/"
        },
        "outputId": "6f798441-f6c5-4f60-8b05-0623f3441641"
      },
      "outputs": [
        {
          "output_type": "stream",
          "name": "stdout",
          "text": [
            "50\n"
          ]
        }
      ],
      "source": [
        "num_1 = 27\n",
        "num_2 = 23\n",
        "print (sum(num_1,num_2)) #Notice how the two numbers are passed into the 'sum' function"
      ]
    },
    {
      "cell_type": "markdown",
      "metadata": {
        "id": "eFIsmmSyQmmy"
      },
      "source": [
        "Functions can be user-defined or built-in. Can you point out an example of each?"
      ]
    },
    {
      "cell_type": "code",
      "execution_count": null,
      "metadata": {
        "id": "_4AIxWThQmmy",
        "colab": {
          "base_uri": "https://localhost:8080/"
        },
        "outputId": "2b09d091-97bc-445b-fe2e-f76fb2ee5880"
      },
      "outputs": [
        {
          "output_type": "stream",
          "name": "stdout",
          "text": [
            "30\n"
          ]
        }
      ],
      "source": [
        "#User-defined\n",
        "def add_numbers(a, b):\n",
        "    sum = a + b\n",
        "    return sum\n",
        "\n",
        "num1 = 153\n",
        "num2 = -123\n",
        "result = add_numbers(num1, num2)\n",
        "print(f\"User-defined function:\" result)\n",
        "\n",
        "#Built-in\n",
        "numbers = [9, 6, 3, 5, 8]\n",
        "total = sum(numbers)\n",
        "print(f\"The sum of the numbers is: {total}\")"
      ]
    },
    {
      "cell_type": "markdown",
      "metadata": {
        "id": "nNxeCJXPQmm3"
      },
      "source": [
        "Write a function in Python to convert celsius Scale to Fahrenheit Scale"
      ]
    },
    {
      "cell_type": "code",
      "execution_count": null,
      "metadata": {
        "id": "WzdfRNcZQmm3",
        "colab": {
          "base_uri": "https://localhost:8080/"
        },
        "outputId": "e90a7be5-2de3-46d5-9e13-de736a73ee44"
      },
      "outputs": [
        {
          "output_type": "stream",
          "name": "stdout",
          "text": [
            "enter temp in Celsius:  9\n",
            "9.0 degrees Celsius is equal to 48.2 degrees Fahrenheit.\n"
          ]
        }
      ],
      "source": [
        "#Write your answer here\n",
        "def celsius_to_fahrenheit(celsius):\n",
        "    fahrenheit = (celsius * 9/5) + 32\n",
        "    return fahrenheit\n",
        "\n",
        "#Get input from user\n",
        "celsius = float(input(\"enter temp in Celsius:  \"))\n",
        "\n",
        "#Convert Celsius to Fahrenheit\n",
        "fahrenheit = celsius_to_fahrenheit(celsius)\n",
        "\n",
        "#Display the result\n",
        "print(f\"{celsius} degrees Celsius is equal to {fahrenheit} degrees Fahrenheit.\")"
      ]
    },
    {
      "cell_type": "markdown",
      "metadata": {
        "id": "VPTAULY2Qmm8"
      },
      "source": [
        "# Modules in Python"
      ]
    },
    {
      "cell_type": "markdown",
      "metadata": {
        "id": "oFI2-8ACQmm8"
      },
      "source": [
        "Modules refer to a file containing Python statements and definitions.\n",
        "\n",
        "A file containing Python code, for example: test.py, is called a module, and its module name would be test.\n",
        "\n",
        "We use modules to break down large programs into small manageable and organized files. Furthermore, modules provide reusability of code.\n",
        "\n",
        "We can define our most used functions in a module and import it, instead of copying their definitions into different programs."
      ]
    },
    {
      "cell_type": "code",
      "execution_count": null,
      "metadata": {
        "id": "PQORPfqmQmm9",
        "colab": {
          "base_uri": "https://localhost:8080/"
        },
        "outputId": "431694c7-b9b2-4131-a1e3-1f3acce83241"
      },
      "outputs": [
        {
          "output_type": "stream",
          "name": "stdout",
          "text": [
            "The value of pi is 3.141592653589793\n"
          ]
        }
      ],
      "source": [
        "# import statement example\n",
        "# to import standard module math\n",
        "\n",
        "import math\n",
        "print(\"The value of pi is\", math.pi)"
      ]
    },
    {
      "cell_type": "markdown",
      "metadata": {
        "id": "mnrxzjAcQmnA"
      },
      "source": [
        "# Packages in Python"
      ]
    },
    {
      "cell_type": "markdown",
      "metadata": {
        "id": "EDIAc41kQmnB"
      },
      "source": [
        "We often use a well organised directory to store folders & files in our computer. Similarly in python we often organise a group of modules together in a package. This heirarchy of organisation is analogous to a directory consisting of folders and files where you can considrer a package to be analogous to a folder whereas a module is analogous to a file.\n",
        "\n",
        "Just like a folder contains multiple files a package can contain multiple modules.\n",
        "\n",
        "As our program grows larger in size with a lot of modules, we group similar modules in one package and different modules in different packages. This makes a program easy to manage and conceptually clear.\n",
        "\n",
        "A directory must contain a file named __init__.py in order for Python to consider it as a package. This file can be left empty but we generally place the initialization code for that package in this file."
      ]
    },
    {
      "cell_type": "code",
      "execution_count": null,
      "metadata": {
        "id": "qi9R68fsQmnB",
        "colab": {
          "base_uri": "https://localhost:8080/"
        },
        "outputId": "3d2aad8f-1f82-4181-b182-1e919a63392b"
      },
      "outputs": [
        {
          "output_type": "stream",
          "name": "stdout",
          "text": [
            "[[ 6  8]\n",
            " [10 12]]\n"
          ]
        }
      ],
      "source": [
        "#Numpy is a popular package for scientific and mathematical computing in Python.\n",
        "#In the example below we are adding two 2*2 matrices\n",
        "import numpy as np\n",
        "\n",
        "a = np.array([[1, 2], [3, 4]])\n",
        "b = np.array([[5, 6], [7, 8]])\n",
        "print(a+b)"
      ]
    },
    {
      "cell_type": "markdown",
      "metadata": {
        "id": "uHS07C51Qmnu"
      },
      "source": [
        "# **Bonus Exercise**"
      ]
    },
    {
      "cell_type": "markdown",
      "metadata": {
        "id": "ncFyHDHAH9zx"
      },
      "source": [
        "<br>Make a simple calculator that does simple calculations. Here you would have to do some String manipulations then, identify the operator used in the input then print out the value of the calculation. These basic operators should be accepted by your implementation! **+ - * /** *Addition, Subtraction, Multiplication and Division.*\n",
        "<br><br> For Example, input would be \"1+2\" or \"1\\*2\", etc<br>string(*input*(\"Enter values in the form: \"number operator number\"))\n",
        "\n",
        "<br><br>Feel free to use online resources to aid you with this.\n",
        "\n",
        "<br> ***Hint***: Use Type-Conversion after extracting the operator and numbers."
      ]
    },
    {
      "cell_type": "code",
      "execution_count": null,
      "metadata": {
        "id": "xCXeSIyfH9hR",
        "colab": {
          "base_uri": "https://localhost:8080/"
        },
        "outputId": "7af08546-eb63-4fb5-ec87-6fe7642160ae"
      },
      "outputs": [
        {
          "output_type": "stream",
          "name": "stdout",
          "text": [
            "EG.'1+2' 3+5\n",
            "3   +   5  =  8\n"
          ]
        }
      ],
      "source": [
        "#Make additional changes or add functions if you need to\n",
        "\n",
        "#myCalculator takes in the argument (inputString) passed in from the user-input (Your Keyboard)\n",
        "#An example input would be in this form: '1+2' or '3-2', etc\n",
        "def myCalculator(inputString):\n",
        "  #Extract the numbers and operator from the inputString\n",
        "\n",
        "    #++++++Codes under here!-------\n",
        "    #Hint: Use Slicing to obtain the numbers and operator! Then use type conversion to obtain the number and character!\n",
        "    num1 = int(inputString[0])\n",
        "    operator = inputString[1]\n",
        "    num2 = int(inputString[2])\n",
        "    #++++++Codes above here!-------\n",
        "\n",
        " #The function arguments in this example should be derived from splitting up the input string above!\n",
        "    printCalculation(num1,operator,num2) #This is an example of what values go into the function! printCalculation(1,'+',2)\n",
        "\n",
        "#printCalculation takes in the arguments of the first number in the string, the operator, the second number\n",
        "def printCalculation(num1,operator,num2):\n",
        "    if(operator == '+'): #Add the other operators with elif!\n",
        "        print(num1,' ',operator, ' ', num2, ' = ',num1+num2) #The output will be displayed as \"1 + 2 = 3\" for example\n",
        "    else:\n",
        "        print(\"Error!\") #This just checks if you have entered the input correctly!\n",
        "\n",
        "#Input here!\n",
        "inputString = input(\"EG.'1+2' \")\n",
        "\n",
        "myCalculator(inputString)"
      ]
    }
  ],
  "metadata": {
    "colab": {
      "provenance": [],
      "include_colab_link": true
    },
    "kernelspec": {
      "display_name": "Python 3 (ipykernel)",
      "language": "python",
      "name": "python3"
    },
    "language_info": {
      "codemirror_mode": {
        "name": "ipython",
        "version": 3
      },
      "file_extension": ".py",
      "mimetype": "text/x-python",
      "name": "python",
      "nbconvert_exporter": "python",
      "pygments_lexer": "ipython3",
      "version": "3.9.7"
    }
  },
  "nbformat": 4,
  "nbformat_minor": 0
}